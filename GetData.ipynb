{
  "nbformat": 4,
  "nbformat_minor": 0,
  "metadata": {
    "colab": {
      "name": "GetData.ipynb",
      "provenance": [],
      "collapsed_sections": [],
      "authorship_tag": "ABX9TyOxWnfpROYKMpPhqBZvkAaw",
      "include_colab_link": true
    },
    "kernelspec": {
      "name": "python3",
      "display_name": "Python 3"
    },
    "language_info": {
      "name": "python"
    }
  },
  "cells": [
    {
      "cell_type": "markdown",
      "metadata": {
        "id": "view-in-github",
        "colab_type": "text"
      },
      "source": [
        "<a href=\"https://colab.research.google.com/github/ozturkgizem/042422/blob/main/GetData.ipynb\" target=\"_parent\"><img src=\"https://colab.research.google.com/assets/colab-badge.svg\" alt=\"Open In Colab\"/></a>"
      ]
    },
    {
      "cell_type": "code",
      "source": [
        "from subprocess import call\n",
        "import shlex"
      ],
      "metadata": {
        "id": "FxLcyOUMUKgD"
      },
      "execution_count": null,
      "outputs": []
    },
    {
      "cell_type": "code",
      "source": [
        "# https://wiki.earthdata.nasa.gov/display/EL/How+To+Access+Data+With+cURL+And+Wget\n",
        "# CMD\n",
        "\n",
        "#cd ~\n",
        "#type nul> .netrc\n",
        "#echo \"machine urs.earthdata.nasa.gov login username_here password pw_here\" > .netrc\n",
        "#chmod 0600 .netrc command is not available on win11 so I give my user the required permissions by hand on properties->security section."
      ],
      "metadata": {
        "id": "g7ePp_c-0UDg"
      },
      "execution_count": null,
      "outputs": []
    },
    {
      "cell_type": "markdown",
      "source": [
        "**.sh(Terminal) Files**  "
      ],
      "metadata": {
        "id": "VGgiamMQV6Kp"
      }
    },
    {
      "cell_type": "code",
      "source": [
        ""
      ],
      "metadata": {
        "id": "iH1ufMx-V52y"
      },
      "execution_count": null,
      "outputs": []
    },
    {
      "cell_type": "code",
      "execution_count": null,
      "metadata": {
        "id": "0O45iJpSUGJ4"
      },
      "outputs": [],
      "source": [
        "sh1 = \"\"\"\n",
        "month=12 # here month starts from 1\n",
        "monthStr=$(printf \"%02d\" $month)\n",
        "year=2018\n",
        "yearStr=$(printf $year)\n",
        "sensor='f18'\n",
        "hemisphere='s'\n",
        "\n",
        "echo 'Grabbing  data'\n",
        "\n",
        "folder1='south'\n",
        "folder2='ANTARCTIC'\n",
        "\n",
        "echo $folder\n",
        "\n",
        "# merge files along time dimension\n",
        "for d in {1..31}\n",
        "do\n",
        "dayStr=$(printf \"%02d\" $d)\t\n",
        "\n",
        "FILE=https://daacdata.apps.nsidc.org/pub/DATASETS/nsidc0081_nrt_nasateam_seaice/\"$folder1\"/nt_\"$yearStr$monthStr$dayStr\"_\"$sensor\"_nrt_\"$hemisphere\".bin\n",
        "echo $FILE\n",
        "wget --load-cookies ~/.urs_cookies --save-cookies ~/.urs_cookies \\\n",
        "--keep-session-cookies --no-check-certificate --auth-no-challenge=on \\\n",
        "-nH --cut-dirs=5 --directory-prefix=./SeaIce2022/Data/ICE_CONC/NASA_TEAM/\"$folder2\"/NRT/ --reject \"index.html*\" \\\n",
        "-np -e robots=off -r $FILE\n",
        "\n",
        "done\n",
        "\"\"\"\n",
        "with open('script1.sh', 'w') as file:\n",
        "  file.write(sh1)\n",
        "  file.close()\n",
        "\n",
        "!bash script1.sh"
      ]
    },
    {
      "cell_type": "code",
      "source": [
        "sh2 = \"\"\"\n",
        "month=12 # here month starts from 1\n",
        "monthStr=$(printf \"%02d\" $month)\n",
        "year=2018\n",
        "yearStr=$(printf $year)\n",
        "sensor='f18'\n",
        "hemisphere='n'\n",
        "\n",
        "echo 'Grabbing  data'\n",
        "\n",
        "folder1='north'\n",
        "folder2='ARCTIC'\n",
        "\n",
        "echo $folder\n",
        "\n",
        "# merge files along time dimension\n",
        "for d in {1..31}\n",
        "do\n",
        "dayStr=$(printf \"%02d\" $d)\t\n",
        "\n",
        "FILE=https://daacdata.apps.nsidc.org/pub/DATASETS/nsidc0081_nrt_nasateam_seaice/\"$folder1\"/nt_\"$yearStr$monthStr$dayStr\"_\"$sensor\"_nrt_\"$hemisphere\".bin\n",
        "echo $FILE\n",
        "wget --load-cookies ~/.urs_cookies --save-cookies ~/.urs_cookies \\\n",
        "--keep-session-cookies --no-check-certificate --auth-no-challenge=on \\\n",
        "-nH --cut-dirs=5 --directory-prefix=./SeaIce2022/Data/ICE_CONC/NASA_TEAM/\"$folder2\"/NRT/ --reject \"index.html*\" \\\n",
        "-np -e robots=off -r $FILE\n",
        "\n",
        "done\n",
        "\n",
        "\"\"\"\n",
        "with open('script2.sh', 'w') as file:\n",
        "  file.write(sh2)\n",
        "file.close()\n",
        "\n",
        "!bash script2.sh"
      ],
      "metadata": {
        "id": "SXrdEv5XX0qW"
      },
      "execution_count": null,
      "outputs": []
    },
    {
      "cell_type": "code",
      "source": [
        "!zip -r ./nearRealTime.zip ./SeaIce2022\n",
        "#for save the folder"
      ],
      "metadata": {
        "id": "qYXK1g59makd"
      },
      "execution_count": null,
      "outputs": []
    },
    {
      "cell_type": "code",
      "source": [
        "sh3 = \"\"\"\n",
        "year=2000\n",
        "yearStr=$(printf $year)\n",
        "sensor='n07'\n",
        "hemisphere='s'\n",
        "\n",
        "echo 'Grabbing  data'\n",
        "\n",
        "folder1='south'\n",
        "folder2='ANTARCTIC'\n",
        "\n",
        "echo $folder\n",
        "# merge files along time dimension\n",
        "for d in {1..12}\n",
        "do\n",
        "monthStr=$(printf \"%02d\" $d)\t\n",
        "\n",
        "FILE=https://daacdata.apps.nsidc.org/pub/DATASETS/nsidc0051_gsfc_nasateam_seaice/final-gsfc/\"$folder1\"/monthly/nt_\"$yearStr$monthStr\"_\"$sensor\"_v1.1_\"$hemisphere\".bin\n",
        "echo $FILE\n",
        "wget --load-cookies ~/.urs_cookies --save-cookies ~/.urs_cookies \\\n",
        "--keep-session-cookies --no-check-certificate --auth-no-challenge=on \\\n",
        "-nH --cut-dirs=3 --directory-prefix=./Data/ICE_CONC/NASA_TEAM/\"$folder2\"/monthly/ --reject \"index.html*\" \\\n",
        "-np -e robots=off -r $FILE\n",
        "\n",
        "done\n",
        "\"\"\"\n",
        "with open('script3.sh', 'w') as file:\n",
        "  file.write(sh3)\n",
        "  file.close()\n",
        "\n",
        "!bash script3.sh"
      ],
      "metadata": {
        "id": "UukhKEfUXyXd"
      },
      "execution_count": null,
      "outputs": []
    },
    {
      "cell_type": "code",
      "source": [
        "sh4 = \"\"\"\n",
        "year=2000\n",
        "yearStr=$(printf $year)\n",
        "sensor='n07'\n",
        "hemisphere='n'\n",
        "\n",
        "echo 'Grabbing  data'\n",
        "\n",
        "folder1='north'\n",
        "folder2='ARCTIC'\n",
        "\n",
        "echo $folder\n",
        "# merge files along time dimension\n",
        "for d in {1..12}\n",
        "do\n",
        "monthStr=$(printf \"%02d\" $d)\t\n",
        "\n",
        "FILE=https://daacdata.apps.nsidc.org/pub/DATASETS/nsidc0051_gsfc_nasateam_seaice/final-gsfc/\"$folder1\"/monthly/nt_\"$yearStr$monthStr\"_\"$sensor\"_v1.1_\"$hemisphere\".bin\n",
        "echo $FILE\n",
        "wget --load-cookies ~/.urs_cookies --save-cookies ~/.urs_cookies \\\n",
        "--keep-session-cookies --no-check-certificate --auth-no-challenge=on \\\n",
        "-nH --cut-dirs=3 --directory-prefix=./Data/ICE_CONC/NASA_TEAM/\"$folder2\"/monthly/ --reject \"index.html*\" \\\n",
        "-np -e robots=off -r $FILE\n",
        "\n",
        "done\n",
        "\"\"\"\n",
        "with open('script4.sh', 'w') as file:\n",
        "  file.write(sh4)\n",
        "  file.close()\n",
        "\n",
        "!bash script4.sh"
      ],
      "metadata": {
        "id": "IorsnYP9wftj"
      },
      "execution_count": null,
      "outputs": []
    },
    {
      "cell_type": "code",
      "source": [
        "!zip -r ./monthly.zip ./Data\n",
        "#for save the folder"
      ],
      "metadata": {
        "id": "aSOLuzEjoTL_"
      },
      "execution_count": null,
      "outputs": []
    }
  ]
}